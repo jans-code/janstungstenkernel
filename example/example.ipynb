{
 "cells": [
  {
   "cell_type": "markdown",
   "id": "9fdaed98-4115-4e03-9b56-5baaedecb7d4",
   "metadata": {},
   "source": [
    "# Use Wolfram Alpha via Tungsten inside a jupyter notebook!"
   ]
  },
  {
   "cell_type": "code",
   "execution_count": 1,
   "id": "eedae831-00eb-4d6b-ae99-db93266a2987",
   "metadata": {
    "tags": []
   },
   "outputs": [
    {
     "name": "stdout",
     "output_type": "stream",
     "text": [
      "\u001b[1;34mInput interpretation\u001b[m\n",
      "convert 110 km/h (kilometers per hour) to miles per hour\n",
      "\u001b[1;34mResult\u001b[m\n",
      "68.35 mph (miles per hour)\n",
      "\u001b[1;34mAdditional conversions\u001b[m\n",
      "30.56 m/s (meters per second)\n",
      "1833 m/min (meters per minute)\n",
      "2640 km/d (kilometers per day)\n",
      "59.4 kn (knots)\n",
      "1.139 mi/min (miles per minute)\n",
      "\u001b[1;34mComparisons as speed\u001b[m\n",
      " ≈ 0.91 × cheetah sprint speed ( ≈ 75 mph )\n",
      " ≈ speed of the fastest water animal (sailfish) ( ≈ 110 km/h )\n",
      " ≈ 1.1 × typical takeoff speed of a light aircraft like a Cessna 150 ( ≈ 63 mph )\n",
      "\u001b[1;34mFujita tornado wind speed classification\u001b[m\n",
      "F0 (gale tornado)\n",
      "\u001b[1;34mInterpretations\u001b[m\n",
      "speed\n",
      "\u001b[1;34mBasic unit dimensions\u001b[m\n",
      "[length] [time]^(-1)\n",
      "\u001b[1;34mCorresponding quantities\u001b[m\n",
      "Time to travel 1 meter from t = d/v:\n",
      " | 33 ms (milliseconds)\n",
      "Time to travel 1 kilometer from t = d/v:\n",
      " | 33 seconds\n",
      " | 0.55 minutes\n",
      "Observed wind intensity from v = 0.836B^(3/2) m/s:\n",
      " | 11 Beaufort scale numbers\n",
      "Effective rocket exhaust speed from v_e = I_sp:\n",
      " | 31 m/s (meters per second)\n",
      "Thrust specific fuel consumption from SFC = 1/I_sp:\n",
      " | 32727 g/(kN s) (grams per kilonewton second)\n"
     ]
    }
   ],
   "source": [
    "110 km/h to miles per hour"
   ]
  },
  {
   "cell_type": "code",
   "execution_count": 2,
   "id": "ae426b76-ef50-4d41-ad2f-69b9282e221e",
   "metadata": {
    "tags": []
   },
   "outputs": [
    {
     "name": "stdout",
     "output_type": "stream",
     "text": [
      "\u001b[1;34mInput interpretation\u001b[m\n",
      "flights seen from Chicago, Illinois, United States\n",
      "\u001b[1;34mResult\u001b[m\n",
      " | altitude | angle\n",
      "Frontier Airlines flight 2931 | 9754 m | 38° up\n",
      "American Airlines flight 493 | 3109 m | 36° up\n",
      "Delta Air Lines flight 1991 | 10363 m | 26° up\n",
      "EDV flight 5502 | 10058 m | 9.5° up\n",
      "United Airlines flight 389 | 9754 m | 8.2° up\n",
      " | type | slant distance\n",
      "Frontier Airlines flight 2931 | | 16 km Southwest\n",
      "American Airlines flight 493 | Boeing 737-800 | 5.2 km East-Northeast\n",
      "Delta Air Lines flight 1991 | Airbus A321 | 23 km Northeast\n",
      "EDV flight 5502 | Canadair Regional Jet CRJ-900 | 60 km Southwest\n",
      "United Airlines flight 389 | Boeing 737-900 | 67 km South-Southwest\n",
      "(locations based on projections of delayed data)\n",
      "(angles with respect to nominal horizon)\n"
     ]
    }
   ],
   "source": [
    "planes in the air over Chicago"
   ]
  },
  {
   "cell_type": "code",
   "execution_count": 3,
   "id": "5cce1f61-ca26-450f-9408-bae4eeccba56",
   "metadata": {
    "tags": []
   },
   "outputs": [
    {
     "name": "stdout",
     "output_type": "stream",
     "text": [
      "\u001b[1;34mInput interpretation\u001b[m\n",
      "eicosapentaenoic acid\n",
      "\u001b[1;34mChemical names and formulas\u001b[m\n",
      "formula | CH_3(CH_2CH=CH)_5(CH_2)_3CO_2H\n",
      "Hill formula | C_20H_30O_2\n",
      "name | eicosapentaenoic acid\n",
      "IUPAC name | (5Z, 8Z, 11Z, 14Z, 17Z)-icosa-5, 8, 11, 14, 17-pentaenoic acid\n",
      "\u001b[1;34mBasic properties\u001b[m\n",
      "molar mass | 302.46 g/mol\n",
      "phase | liquid (at STP)\n",
      "melting point | -53.5 °C\n",
      "boiling point | 439 °C\n",
      "mass density | 0.943 g/cm^3\n",
      "\u001b[1;34mHydrophobicity and permeability properties\u001b[m\n",
      "experimental LogP hydrophobicity | 6.1\n",
      "predicted LogP hydrophobicity | 6.53\n",
      "predicted LogS | -6.02\n",
      "\u001b[1;34mBasic drug properties\u001b[m\n",
      "approval status | approved | nutraceutical | small molecule\n",
      "drug categories | dietary supplement | micronutrient\n",
      "dosage forms | oral: capsule\n",
      "\u001b[1;34mLiquid properties (at STP)\u001b[m\n",
      "mass density | 0.943 g/cm^3\n",
      "vapor pressure | 6×10^-9 mmHg (at 25 °C)\n",
      "refractive index | 1.498\n",
      "\u001b[1;34mThermodynamic properties\u001b[m\n",
      "specific heat of vaporization | 0.252 kJ/g\n",
      "(at STP)\n",
      "\u001b[1;34mChemical identifiers\u001b[m\n",
      "CAS registry number | 10417-94-4\n",
      "Beilstein number | 1714433\n",
      "PubChem compound ID | 446284\n",
      "PubChem substance ID | 11533194\n",
      "SMILES identifier | CCC=CCC=CCC=CCC=CCC=CCCCC(=O)O\n",
      "\u001b[1;34mSafety properties\u001b[m\n",
      "flash point | 93.33 °C\n"
     ]
    }
   ],
   "source": [
    "eicosapentaenoic acid"
   ]
  }
 ],
 "metadata": {
  "kernelspec": {
   "display_name": "Tungsten (Wolfram)",
   "language": "",
   "name": "janstungstenkernel"
  },
  "language_info": {
   "file_extension": ".txt",
   "mimetype": "text",
   "name": "tungsten"
  }
 },
 "nbformat": 4,
 "nbformat_minor": 5
}
